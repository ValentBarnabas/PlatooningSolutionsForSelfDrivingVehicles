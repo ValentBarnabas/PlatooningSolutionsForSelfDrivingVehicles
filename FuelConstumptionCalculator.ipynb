{
 "cells": [
  {
   "cell_type": "code",
   "execution_count": 128,
   "metadata": {},
   "outputs": [],
   "source": [
    "#Imports\n",
    "import pandas as pd\n",
    "import xml.etree.ElementTree as ET\n",
    "import matplotlib.pyplot as plt"
   ]
  },
  {
   "cell_type": "code",
   "execution_count": 129,
   "metadata": {},
   "outputs": [],
   "source": [
    "#Base Params\n",
    "stepsPerSec = 10\n",
    "\n",
    "COLOR = 'black'         #lightGray\n",
    "BACKGROUND = \"none\"     #black\n",
    "plt.rcParams['text.color'] = COLOR\n",
    "plt.rcParams['axes.labelcolor'] = COLOR\n",
    "plt.rcParams['xtick.color'] = COLOR\n",
    "plt.rcParams['ytick.color'] = COLOR\n",
    "\n",
    "plt.rcParams['axes.facecolor'] = BACKGROUND\n",
    "plt.rcParams['figure.facecolor'] = BACKGROUND"
   ]
  },
  {
   "cell_type": "markdown",
   "metadata": {},
   "source": [
    "## Importing base emission values to dfBase"
   ]
  },
  {
   "cell_type": "code",
   "execution_count": 130,
   "metadata": {},
   "outputs": [],
   "source": [
    "xmlDataBase = open('./emissionBaseValues_Bckp.xml', 'r').read()  # Read file\n",
    "rootBase = ET.XML(xmlDataBase)  # Parse XML\n",
    "\n",
    "colsBase = []\n",
    "dataBase = []\n",
    "for i in rootBase:\n",
    "    line = []\n",
    "    for fuelInfo in i:\n",
    "        # print(i.attrib[\"time\"] + \" \" + fuelinfo.attrib[\"id\"] + \" \" + str(fuelinfo.attrib[\"fuel\"]))\n",
    "        line.append(float(fuelInfo.attrib[\"fuel\"]) / stepsPerSec)\n",
    "\n",
    "        if (fuelInfo.attrib[\"id\"] not in colsBase):\n",
    "            colsBase.append(fuelInfo.attrib[\"id\"])\n",
    "    dataBase.append(line)\n",
    "\n",
    "dfBase = pd.DataFrame(dataBase)\n",
    "dfBase.columns = colsBase\n",
    "# print(dfBase)\n"
   ]
  },
  {
   "cell_type": "markdown",
   "metadata": {},
   "source": [
    "#### Total consumption of each car"
   ]
  },
  {
   "cell_type": "code",
   "execution_count": 131,
   "metadata": {},
   "outputs": [
    {
     "data": {
      "text/plain": [
       "Text(0.5, 1.0, 'Total consumption of each car')"
      ]
     },
     "execution_count": 131,
     "metadata": {},
     "output_type": "execute_result"
    },
    {
     "data": {
      "image/png": "[encoded data removed]",
      "text/plain": [
       "<Figure size 432x288 with 1 Axes>"
      ]
     },
     "metadata": {
      "needs_background": "light"
     },
     "output_type": "display_data"
    }
   ],
   "source": [
    "baseSum = dfBase.sum(0)\n",
    "# print(summed)\n",
    "baseSum.plot(kind=\"bar\", color=\"crimson\")\n",
    "plt.ylabel(\"fuel consumption (ml)\")\n",
    "plt.title(\"Total consumption of each car\")"
   ]
  },
  {
   "cell_type": "markdown",
   "metadata": {},
   "source": [
    "## Importing emission scaling values to dfScale"
   ]
  },
  {
   "cell_type": "code",
   "execution_count": 132,
   "metadata": {},
   "outputs": [],
   "source": [
    "xmlDataScale = open(\"./emissionScaleValues_Bckp.xml\", \"r\").read()\n",
    "rootScale = ET.XML(xmlDataScale)\n",
    "\n",
    "colsScale = []\n",
    "dataScale = []\n",
    "for i in rootScale:\n",
    "    line = []\n",
    "    for scaleInfo in i:\n",
    "        line.append(float(scaleInfo.attrib[\"scaling\"]))\n",
    "\n",
    "        if (scaleInfo.attrib[\"id\"] not in colsScale):\n",
    "            colsScale.append(scaleInfo.attrib[\"id\"])\n",
    "    dataScale.append(line)\n",
    "dfScale = pd.DataFrame(dataScale)\n",
    "dfScale.columns = colsScale\n",
    "# print(dfScale)"
   ]
  },
  {
   "cell_type": "markdown",
   "metadata": {},
   "source": [
    "#### Total scaling values of each car"
   ]
  },
  {
   "cell_type": "code",
   "execution_count": 133,
   "metadata": {},
   "outputs": [
    {
     "data": {
      "text/plain": [
       "<AxesSubplot:>"
      ]
     },
     "execution_count": 133,
     "metadata": {},
     "output_type": "execute_result"
    },
    {
     "data": {
      "image/png": "[encoded data removed]",
      "text/plain": [
       "<Figure size 432x288 with 1 Axes>"
      ]
     },
     "metadata": {
      "needs_background": "light"
     },
     "output_type": "display_data"
    }
   ],
   "source": [
    "scaledSum = dfScale.sum(0)\n",
    "# print(scaledSum)\n",
    "scaledSum.plot(kind=\"bar\", color=\"crimson\")"
   ]
  },
  {
   "cell_type": "markdown",
   "metadata": {},
   "source": [
    "## Scaling base consumptions for simulated savings"
   ]
  },
  {
   "cell_type": "code",
   "execution_count": 134,
   "metadata": {},
   "outputs": [],
   "source": [
    "vehicles = dfBase.columns\n",
    "rowsBase = len(dfBase.index)\n",
    "rowsScale = len(dfScale.index)\n",
    "rowsSmaller = rowsBase if rowsBase < rowsScale else rowsScale\n",
    "\n",
    "dataBaseScaled = []\n",
    "\n",
    "for i in range(rowsSmaller):\n",
    "    line = []\n",
    "    for veh in vehicles:\n",
    "        b = dfBase[veh][i]\n",
    "        s = dfScale[veh][i]\n",
    "        bsd = b*s\n",
    "        line.append(bsd)\n",
    "    dataBaseScaled.append(line)\n",
    "\n",
    "dfBaseScaled = pd.DataFrame(dataBaseScaled, columns=vehicles)"
   ]
  },
  {
   "cell_type": "markdown",
   "metadata": {},
   "source": [
    "#### Total consumed fuel of each car (controlled, ml)"
   ]
  },
  {
   "cell_type": "code",
   "execution_count": 139,
   "metadata": {},
   "outputs": [
    {
     "name": "stdout",
     "output_type": "stream",
     "text": [
      "veh0    479.08960\n",
      "veh1    420.75900\n",
      "veh2    389.06830\n",
      "veh3    390.21000\n",
      "veh4    391.34475\n",
      "veh5    392.69200\n",
      "veh6    393.82335\n",
      "veh7    394.95725\n",
      "veh8    396.29005\n",
      "veh9    397.41460\n",
      "dtype: float64\n"
     ]
    },
    {
     "data": {
      "text/plain": [
       "Text(0.5, 1.0, 'Scaled total consumption of controlled cars')"
      ]
     },
     "execution_count": 139,
     "metadata": {},
     "output_type": "execute_result"
    },
    {
     "data": {
      "image/png": "[encoded data removed]",
      "text/plain": [
       "<Figure size 432x288 with 1 Axes>"
      ]
     },
     "metadata": {
      "needs_background": "light"
     },
     "output_type": "display_data"
    }
   ],
   "source": [
    "baseScaledSum = dfBaseScaled.sum(0)\n",
    "print(baseScaledSum)\n",
    "baseScaledSum.plot(kind=\"bar\", color=\"crimson\")\n",
    "plt.ylabel(\"fuel consumption (ml)\")\n",
    "plt.title(\"Scaled total consumption of controlled cars\")"
   ]
  },
  {
   "cell_type": "markdown",
   "metadata": {},
   "source": [
    "## Importing emission values of uncontrolled cars "
   ]
  },
  {
   "cell_type": "code",
   "execution_count": 136,
   "metadata": {},
   "outputs": [],
   "source": [
    "xmlDataUnc = open('./emissionBaseValues_Uncontrolled_Bckp.xml', 'r').read()  # Read file\n",
    "rootUnc = ET.XML(xmlDataUnc)  # Parse XML\n",
    "\n",
    "colsUnc = []\n",
    "dataUnc = []\n",
    "for i in rootUnc:\n",
    "    line = []\n",
    "    for fuelInfo in i:\n",
    "        # print(i.attrib[\"time\"] + \" \" + fuelinfo.attrib[\"id\"] + \" \" + str(fuelinfo.attrib[\"fuel\"]))\n",
    "        line.append(float(fuelInfo.attrib[\"fuel\"]) / stepsPerSec)\n",
    "\n",
    "        if (fuelInfo.attrib[\"id\"] not in colsUnc):\n",
    "            colsUnc.append(fuelInfo.attrib[\"id\"])\n",
    "    dataUnc.append(line)\n",
    "\n",
    "dfUnc = pd.DataFrame(dataUnc)\n",
    "dfUnc.columns = colsUnc"
   ]
  },
  {
   "cell_type": "markdown",
   "metadata": {},
   "source": [
    "#### Total consumed fuel of each car (uncontrolled, ml)"
   ]
  },
  {
   "cell_type": "code",
   "execution_count": 138,
   "metadata": {},
   "outputs": [
    {
     "data": {
      "text/plain": [
       "Text(0.5, 1.0, 'Total consumption uncontrolled cars')"
      ]
     },
     "execution_count": 138,
     "metadata": {},
     "output_type": "execute_result"
    },
    {
     "data": {
      "image/png": "[encoded data removed]",
      "text/plain": [
       "<Figure size 432x288 with 1 Axes>"
      ]
     },
     "metadata": {
      "needs_background": "light"
     },
     "output_type": "display_data"
    }
   ],
   "source": [
    "uncSum = dfUnc.sum(0)\n",
    "# print(summed)\n",
    "uncSum.plot(kind=\"bar\", color=\"crimson\")\n",
    "plt.ylabel(\"fuel consumption (ml)\")\n",
    "plt.title(\"Total consumption uncontrolled cars\")\n",
    "# ax = plt.gca()\n",
    "# ax.set_facecolor('xkcd:salmon')"
   ]
  },
  {
   "cell_type": "code",
   "execution_count": null,
   "metadata": {},
   "outputs": [],
   "source": []
  }
 ],
 "metadata": {
  "interpreter": {
   "hash": "07efdcd4b820c98a756949507a4d29d7862823915ec7477944641bea022f4f62"
  },
  "kernelspec": {
   "display_name": "Python 3.8.8 ('base')",
   "language": "python",
   "name": "python3"
  },
  "language_info": {
   "codemirror_mode": {
    "name": "ipython",
    "version": 3
   },
   "file_extension": ".py",
   "mimetype": "text/x-python",
   "name": "python",
   "nbconvert_exporter": "python",
   "pygments_lexer": "ipython3",
   "version": "3.8.8"
  },
  "orig_nbformat": 4
 },
 "nbformat": 4,
 "nbformat_minor": 2
}
