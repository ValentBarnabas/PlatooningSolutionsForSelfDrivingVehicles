{
 "cells": [
  {
   "cell_type": "code",
   "execution_count": 1,
   "id": "efaaf6e2-7213-4423-a765-05f43d2599e7",
   "metadata": {},
   "outputs": [],
   "source": [
    "import numpy as np\n",
    "import matplotlib.pyplot as plt"
   ]
  },
  {
   "cell_type": "code",
   "execution_count": 3,
   "id": "024afc8c-900d-4aaf-963f-53495dab58a5",
   "metadata": {},
   "outputs": [],
   "source": [
    "ref = np.array([130 /3.6 ]*1000) #m/s"
   ]
  },
  {
   "cell_type": "markdown",
   "id": "bb5294b9-ed34-4137-b00f-2b9262780bd0",
   "metadata": {},
   "source": [
    "$a = \\frac{F}{m}$"
   ]
  },
  {
   "cell_type": "markdown",
   "id": "56b760cb-4ae6-4ccb-8518-e959af6fd829",
   "metadata": {},
   "source": [
    "$v(t) = v(t-1) + a$"
   ]
  },
  {
   "cell_type": "markdown",
   "id": "867e59d0-3c1f-4eb5-ae11-b9d9e2720da2",
   "metadata": {},
   "source": [
    "$v(t) = v(t-1) + F_e(t) \\cdot \\frac{1}{m}$"
   ]
  },
  {
   "cell_type": "markdown",
   "id": "3694be76-5e27-4eb7-9118-f5329acc7d8c",
   "metadata": {},
   "source": [
    "$F_e(t) = F_m(t) - F_d(t)$\n",
    "\n",
    "$F_d(t) = c_d v(t)^2$"
   ]
  },
  {
   "cell_type": "code",
   "execution_count": 9,
   "id": "01f5c1f7-68f3-4d96-b285-a52f407727b6",
   "metadata": {},
   "outputs": [],
   "source": [
    "C_d = 0.25\n",
    "M = 1300 #kg"
   ]
  },
  {
   "cell_type": "code",
   "execution_count": 5,
   "id": "d761b484-e10e-4461-b2e3-2e2a6b000aad",
   "metadata": {},
   "outputs": [],
   "source": [
    "v_0 = 0 #m/s"
   ]
  },
  {
   "cell_type": "code",
   "execution_count": 10,
   "id": "544e7d56-290d-4834-bd9f-dcd1fb7a518b",
   "metadata": {},
   "outputs": [],
   "source": [
    "def process(f_m, v):\n",
    "    #v(t)\n",
    "    f_e = f_m - C_d*v**2\n",
    "    a = f_e / M\n",
    "    return v + a"
   ]
  },
  {
   "cell_type": "code",
   "execution_count": 39,
   "id": "c6d07f8a-500e-42e3-a582-e9a4de3e5ac6",
   "metadata": {},
   "outputs": [],
   "source": [
    "def pid(err: np.array, kp:float, ki:float, kd:float):\n",
    "    p = err[-1]\n",
    "    i = np.sum(err[-min(20, len(err)):])\n",
    "    d = (err[-2]-err[-1])/1.0 if len(err)>2 else 0\n",
    "    return kp*p + ki*i + kd*d"
   ]
  },
  {
   "cell_type": "code",
   "execution_count": 11,
   "id": "b726cc48-477d-4a3d-bf59-e91c77088987",
   "metadata": {},
   "outputs": [
    {
     "data": {
      "text/plain": [
       "[<matplotlib.lines.Line2D at 0x7f7aac60a908>]"
      ]
     },
     "execution_count": 11,
     "metadata": {},
     "output_type": "execute_result"
    },
    {
     "data": {
      "image/png": "[encoded data removed]",
      "text/plain": [
       "<Figure size 432x288 with 1 Axes>"
      ]
     },
     "metadata": {
      "needs_background": "light"
     },
     "output_type": "display_data"
    }
   ],
   "source": [
    "plt.plot(ref)"
   ]
  },
  {
   "cell_type": "code",
   "execution_count": 12,
   "id": "51d03ccf-913c-4b1e-bd95-8deb7d9a7734",
   "metadata": {},
   "outputs": [],
   "source": [
    "f_m = np.array([500]*1000)\n",
    "v = [v_0]\n",
    "for i in range(1000):\n",
    "    v.append(process(f_m[i], v[-1]))"
   ]
  },
  {
   "cell_type": "code",
   "execution_count": 13,
   "id": "b0b2efb2-fbcf-4813-9703-d191b359a00b",
   "metadata": {},
   "outputs": [
    {
     "data": {
      "text/plain": [
       "[<matplotlib.lines.Line2D at 0x7f7aac037278>]"
      ]
     },
     "execution_count": 13,
     "metadata": {},
     "output_type": "execute_result"
    },
    {
     "data": {
      "image/png": "[encoded data removed]",
      "text/plain": [
       "<Figure size 432x288 with 1 Axes>"
      ]
     },
     "metadata": {
      "needs_background": "light"
     },
     "output_type": "display_data"
    }
   ],
   "source": [
    "plt.plot(ref)\n",
    "plt.plot(v)"
   ]
  },
  {
   "cell_type": "markdown",
   "id": "af62bb5c-5f61-43bb-ae73-03795b56845d",
   "metadata": {},
   "source": [
    "---"
   ]
  },
  {
   "cell_type": "code",
   "execution_count": 70,
   "id": "fc63f948-00ea-4cc5-945f-deeaef8704bf",
   "metadata": {},
   "outputs": [],
   "source": [
    "v = [v_0]\n",
    "for i in range(1000):\n",
    "    err = ref[:i+1]-np.array(v)\n",
    "    f_m = pid(err, 130.0, 10, 10)\n",
    "    v.append(process(f_m, v[-1]))"
   ]
  },
  {
   "cell_type": "code",
   "execution_count": 72,
   "id": "7a2f3233-3c99-450e-b1c1-dc7af35a1d4c",
   "metadata": {},
   "outputs": [
    {
     "data": {
      "text/plain": [
       "(0.0, 200.0)"
      ]
     },
     "execution_count": 72,
     "metadata": {},
     "output_type": "execute_result"
    },
    {
     "data": {
      "image/png": "[encoded data removed]",
      "text/plain": [
       "<Figure size 432x288 with 1 Axes>"
      ]
     },
     "metadata": {
      "needs_background": "light"
     },
     "output_type": "display_data"
    }
   ],
   "source": [
    "plt.plot(ref)\n",
    "plt.plot(v)\n",
    "plt.xlim(0, 200)"
   ]
  }
 ],
 "metadata": {
  "kernelspec": {
   "display_name": "Python 3 (ipykernel)",
   "language": "python",
   "name": "python3"
  },
  "language_info": {
   "codemirror_mode": {
    "name": "ipython",
    "version": 3
   },
   "file_extension": ".py",
   "mimetype": "text/x-python",
   "name": "python",
   "nbconvert_exporter": "python",
   "pygments_lexer": "ipython3",
   "version": "3.7.3"
  }
 },
 "nbformat": 4,
 "nbformat_minor": 5
}
