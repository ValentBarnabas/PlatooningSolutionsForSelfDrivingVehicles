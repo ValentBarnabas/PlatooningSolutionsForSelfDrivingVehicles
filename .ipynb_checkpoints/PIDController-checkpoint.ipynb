{
 "cells": [
  {
   "cell_type": "code",
   "execution_count": 1,
   "id": "4cc5c999-5329-47ad-ab23-391398bd328a",
   "metadata": {},
   "outputs": [],
   "source": [
    "import numpy as np\n",
    "import matplotlib.pyplot as plt"
   ]
  },
  {
   "cell_type": "code",
   "execution_count": 2,
   "id": "e347f33c-fc5a-4293-a088-61af96443d71",
   "metadata": {},
   "outputs": [],
   "source": [
    "class PIDController:\n",
    "    def __init__ (self, Kp, Ki, Kd, tau, limMin, limMax, T, integrator, differentiator):\n",
    "        #Coefficient constants\n",
    "        self.Kp = Kp\n",
    "        self.Ki = Ki\n",
    "        self.Kd = Kd\n",
    "        \n",
    "        #Time constant for derivation\n",
    "        self.tau = tau\n",
    "        \n",
    "        #Limits for the output\n",
    "        self.limMin = limMin\n",
    "        self.limMax = limMax\n",
    "        \n",
    "        #Sample time in seconds\n",
    "        self.T = T\n",
    "        \n",
    "        #Controller memory\n",
    "        self.integrator = integrator\n",
    "        self.prevError = np.zeros(20)\n",
    "        self.differentiator = differentiator\n",
    "        self.prevMeasurement = 0\n",
    "        \n",
    "        #Controller output\n",
    "        self.out = 0.0\n",
    "        \n",
    "    def Clear(self):\n",
    "        self.integrator = 0.0\n",
    "        self.prevError = 0.0\n",
    "        self.differentiator = 0.0\n",
    "        self.prevMeasuement = 0.0\n",
    "                \n",
    "        self.out = 0.0\n",
    "        \n",
    "    def Update(self, setpoint, measurement):\n",
    "        \n",
    "        #Error signal\n",
    "        error = setpoint - measurement\n",
    "        \n",
    "        #Proportional term\n",
    "        proportional = self.Kp * error\n",
    "        \n",
    "        #Integral calc\n",
    "        self.integrator = self.Ki * np.sum(self.prevError) / len(self.prevError)\n",
    "                \n",
    "        #Limit integrator swings\n",
    "        self.integratorSwingLimit(proportional)\n",
    "        \n",
    "        #Derivative calc\n",
    "        self.differentiator = measurement - self.prevMeasurement\n",
    "        \n",
    "        #Get output and limit it\n",
    "        self.out = proportional + self.integrator + self.differentiator\n",
    "        \n",
    "        if (self.out > self.limMax):\n",
    "            self.out = self.limMax\n",
    "        elif (self.out < self.limMin):\n",
    "            self.out = self.limMin\n",
    "            \n",
    "        #Store values for next iteration\n",
    "        self.prevError = np.append(self.prevError, error)\n",
    "        self.prevError = self.prevError[1:]\n",
    "        self.prevMeasurement = measurement\n",
    "        \n",
    "        #Give output\n",
    "        return self.out\n",
    "        \n",
    "    def integratorSwingLimit(self, proportional):\n",
    "        #Vars for determining need of limiting\n",
    "        limMaxInt = 0.0\n",
    "        limMinInt = 0.0\n",
    "        \n",
    "        if (self.limMax > proportional):\n",
    "            limMaxInt = self.limMax - proportional\n",
    "            \n",
    "        if (self.limMin < proportional):\n",
    "            limMinInt = self.limMin - proportional\n",
    "        \n",
    "        #Limit swings\n",
    "        if (self.integrator > limMaxInt):\n",
    "            self.integrator = limMaxInt\n",
    "        elif (self.integrator < limMinInt):\n",
    "            self.integrator = limMinInt"
   ]
  },
  {
   "cell_type": "code",
   "execution_count": 3,
   "id": "31d6a039-349e-4496-ac7a-325f31c5a741",
   "metadata": {},
   "outputs": [],
   "source": [
    "import numpy as np\n",
    "import matplotlib.pyplot as plt\n",
    "\n",
    "ref = np.array([130 / 3.6]*1000) #m/s\n",
    "C_drag = 0.25\n",
    "M = 1300 #kg\n",
    "v_0 = 0 #m/s\n",
    "\n",
    "\n",
    "def physics(f_m, v):\n",
    "    #v(t)\n",
    "    f_e = f_m - C_drag*v**2\n",
    "    a = f_e / M\n",
    "    return v + a\n",
    "\n",
    "Kp = 300.0\n",
    "Ki = 250.0\n",
    "Kd = 250.0\n",
    "tau = 1.0\n",
    "limMin = 0\n",
    "limMax = 100000\n",
    "T = 1.0\n",
    "integrator = 20\n",
    "differentiator = 20\n",
    "\n",
    "controller = PIDController(Kp, Ki, Kd, tau, limMin, limMax, T, integrator, differentiator)\n",
    "\n",
    "v = [v_0]\n",
    "for i in range(1000):\n",
    "    #err = ref[:i+1]-np.array(v)\n",
    "    f_m = controller.Update(ref[i], v[-1])\n",
    "    v.append(physics(f_m, v[-1]))"
   ]
  },
  {
   "cell_type": "code",
   "execution_count": 5,
   "id": "507d30c1-ea55-4f9a-8d2f-9d84f41de9df",
   "metadata": {},
   "outputs": [
    {
     "data": {
      "text/plain": [
       "(0.0, 150.0)"
      ]
     },
     "execution_count": 5,
     "metadata": {},
     "output_type": "execute_result"
    },
    {
     "data": {
      "image/png": "[encoded data removed]",
      "text/plain": [
       "<Figure size 432x288 with 1 Axes>"
      ]
     },
     "metadata": {
      "needs_background": "light"
     },
     "output_type": "display_data"
    }
   ],
   "source": [
    "plt.plot(ref)\n",
    "plt.plot(v)\n",
    "plt.xlim(0, 150)"
   ]
  },
  {
   "cell_type": "code",
   "execution_count": null,
   "id": "6893c8d4-d57d-4669-b719-6e86863752fe",
   "metadata": {},
   "outputs": [],
   "source": []
  }
 ],
 "metadata": {
  "kernelspec": {
   "display_name": "Python 3",
   "language": "python",
   "name": "python3"
  },
  "language_info": {
   "codemirror_mode": {
    "name": "ipython",
    "version": 3
   },
   "file_extension": ".py",
   "mimetype": "text/x-python",
   "name": "python",
   "nbconvert_exporter": "python",
   "pygments_lexer": "ipython3",
   "version": "3.8.8"
  }
 },
 "nbformat": 4,
 "nbformat_minor": 5
}
